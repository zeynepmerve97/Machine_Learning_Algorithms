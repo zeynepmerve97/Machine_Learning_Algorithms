{
  "nbformat": 4,
  "nbformat_minor": 0,
  "metadata": {
    "colab": {
      "name": "NaiveBayes.ipynb",
      "provenance": [],
      "authorship_tag": "ABX9TyNU/h3p/UpJc43fvgepTs9+",
      "include_colab_link": true
    },
    "kernelspec": {
      "name": "python3",
      "display_name": "Python 3"
    },
    "language_info": {
      "name": "python"
    }
  },
  "cells": [
    {
      "cell_type": "markdown",
      "metadata": {
        "id": "view-in-github",
        "colab_type": "text"
      },
      "source": [
        "<a href=\"https://colab.research.google.com/github/zeynepmerve97/Machine_Learning_Algorithms/blob/main/NaiveBayes.ipynb\" target=\"_parent\"><img src=\"https://colab.research.google.com/assets/colab-badge.svg\" alt=\"Open In Colab\"/></a>"
      ]
    },
    {
      "cell_type": "code",
      "metadata": {
        "id": "onhVCIdmiIGH"
      },
      "source": [
        "#load libraries\n",
        "import pandas as pd\n",
        "import numpy as np\n",
        "from sklearn.naive_bayes import GaussianNB\n",
        "from sklearn.model_selection import cross_val_score,train_test_split\n",
        "from sklearn.datasets import load_wine\n",
        "from sklearn.metrics import confusion_matrix, classification_report"
      ],
      "execution_count": 10,
      "outputs": []
    },
    {
      "cell_type": "code",
      "metadata": {
        "id": "Kh7TpRRVjfZx"
      },
      "source": [
        "#load dataset\n",
        "wine = load_wine()\n",
        "df = pd.DataFrame(np.c_[wine['data'], wine['target']],\n",
        "                  columns = np.append(wine['feature_names'], ['target']))"
      ],
      "execution_count": 11,
      "outputs": []
    },
    {
      "cell_type": "code",
      "metadata": {
        "colab": {
          "base_uri": "https://localhost:8080/"
        },
        "id": "jL4e6e1Ikotp",
        "outputId": "a88ebc5d-5502-40fe-af5f-8a2ad03bab41"
      },
      "source": [
        "X =  df.drop('target' ,axis = 1)\n",
        "y = df['target']\n",
        "print(X.head())\n",
        "print(y.head())"
      ],
      "execution_count": 12,
      "outputs": [
        {
          "output_type": "stream",
          "text": [
            "   alcohol  malic_acid   ash  ...   hue  od280/od315_of_diluted_wines  proline\n",
            "0    14.23        1.71  2.43  ...  1.04                          3.92   1065.0\n",
            "1    13.20        1.78  2.14  ...  1.05                          3.40   1050.0\n",
            "2    13.16        2.36  2.67  ...  1.03                          3.17   1185.0\n",
            "3    14.37        1.95  2.50  ...  0.86                          3.45   1480.0\n",
            "4    13.24        2.59  2.87  ...  1.04                          2.93    735.0\n",
            "\n",
            "[5 rows x 13 columns]\n",
            "0    0.0\n",
            "1    0.0\n",
            "2    0.0\n",
            "3    0.0\n",
            "4    0.0\n",
            "Name: target, dtype: float64\n"
          ],
          "name": "stdout"
        }
      ]
    },
    {
      "cell_type": "code",
      "metadata": {
        "id": "ftaSbmMpk1vO"
      },
      "source": [
        "#split dataset: train and test\n",
        "X_train,X_test,y_train,y_test =train_test_split(X,y,test_size =0.2)"
      ],
      "execution_count": 16,
      "outputs": []
    },
    {
      "cell_type": "code",
      "metadata": {
        "colab": {
          "base_uri": "https://localhost:8080/"
        },
        "id": "A8ly30AjlA69",
        "outputId": "cb772752-8b69-448f-fc1a-0df781b62884"
      },
      "source": [
        "model = GaussianNB()\n",
        "model.fit(X_train,y_train)"
      ],
      "execution_count": 17,
      "outputs": [
        {
          "output_type": "execute_result",
          "data": {
            "text/plain": [
              "GaussianNB(priors=None, var_smoothing=1e-09)"
            ]
          },
          "metadata": {
            "tags": []
          },
          "execution_count": 17
        }
      ]
    },
    {
      "cell_type": "code",
      "metadata": {
        "colab": {
          "base_uri": "https://localhost:8080/"
        },
        "id": "lkhYjPUglSKg",
        "outputId": "0551308e-9f11-4503-83ef-3c0ea0fdbff2"
      },
      "source": [
        "y_pred = model.predict(X_test)\n",
        "y_pred"
      ],
      "execution_count": 18,
      "outputs": [
        {
          "output_type": "execute_result",
          "data": {
            "text/plain": [
              "array([1., 0., 2., 2., 2., 0., 0., 2., 0., 0., 1., 0., 0., 1., 1., 0., 0.,\n",
              "       2., 1., 0., 2., 0., 2., 0., 1., 2., 1., 1., 0., 1., 1., 1., 0., 2.,\n",
              "       1., 0.])"
            ]
          },
          "metadata": {
            "tags": []
          },
          "execution_count": 18
        }
      ]
    },
    {
      "cell_type": "code",
      "metadata": {
        "colab": {
          "base_uri": "https://localhost:8080/"
        },
        "id": "k_GBJZM0l8Br",
        "outputId": "44859cf6-0818-4a3f-ebd6-8b13ce4c9d69"
      },
      "source": [
        "scoring = cross_val_score(model,X_train,y_train,cv=2,scoring ='neg_mean_absolute_error')\n",
        "print(scoring)"
      ],
      "execution_count": 20,
      "outputs": [
        {
          "output_type": "stream",
          "text": [
            "[-0.05633803 -0.        ]\n"
          ],
          "name": "stdout"
        }
      ]
    },
    {
      "cell_type": "code",
      "metadata": {
        "colab": {
          "base_uri": "https://localhost:8080/"
        },
        "id": "NE85xG_dmLyp",
        "outputId": "f4a07b4d-4eaf-4855-b8c5-c007525580f1"
      },
      "source": [
        "cm = confusion_matrix(y_test,y_pred)\n",
        "print(cm)"
      ],
      "execution_count": 22,
      "outputs": [
        {
          "output_type": "stream",
          "text": [
            "[[15  0  0]\n",
            " [ 0 12  0]\n",
            " [ 0  0  9]]\n"
          ],
          "name": "stdout"
        }
      ]
    },
    {
      "cell_type": "code",
      "metadata": {
        "colab": {
          "base_uri": "https://localhost:8080/"
        },
        "id": "M-y9TuKGmVQY",
        "outputId": "b407658f-1a4c-49ed-aef2-5b6daeaf9cff"
      },
      "source": [
        "print(classification_report(y_test,y_pred))"
      ],
      "execution_count": 23,
      "outputs": [
        {
          "output_type": "stream",
          "text": [
            "              precision    recall  f1-score   support\n",
            "\n",
            "         0.0       1.00      1.00      1.00        15\n",
            "         1.0       1.00      1.00      1.00        12\n",
            "         2.0       1.00      1.00      1.00         9\n",
            "\n",
            "    accuracy                           1.00        36\n",
            "   macro avg       1.00      1.00      1.00        36\n",
            "weighted avg       1.00      1.00      1.00        36\n",
            "\n"
          ],
          "name": "stdout"
        }
      ]
    }
  ]
}