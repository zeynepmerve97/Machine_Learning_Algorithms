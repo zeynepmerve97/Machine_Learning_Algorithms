{
  "nbformat": 4,
  "nbformat_minor": 0,
  "metadata": {
    "colab": {
      "name": "RBF.ipynb adlı not defterinin kopyası",
      "provenance": [],
      "collapsed_sections": [],
      "authorship_tag": "ABX9TyM07w3YEpyBauAPzmT4Gh51",
      "include_colab_link": true
    },
    "kernelspec": {
      "name": "python3",
      "display_name": "Python 3"
    },
    "language_info": {
      "name": "python"
    }
  },
  "cells": [
    {
      "cell_type": "markdown",
      "metadata": {
        "id": "view-in-github",
        "colab_type": "text"
      },
      "source": [
        "<a href=\"https://colab.research.google.com/github/zeynepmerve97/Machine_Learning_Algorithms/blob/main/RBF_ipynb_adl%C4%B1_not_defterinin_kopyas%C4%B1.ipynb\" target=\"_parent\"><img src=\"https://colab.research.google.com/assets/colab-badge.svg\" alt=\"Open In Colab\"/></a>"
      ]
    },
    {
      "cell_type": "code",
      "metadata": {
        "id": "6HfzLqPz45-v"
      },
      "source": [
        "from keras.layers import Layer\n",
        "from keras import backend as K\n",
        "import pandas as pd\n",
        "import numpy as np\n"
      ],
      "execution_count": null,
      "outputs": []
    },
    {
      "cell_type": "code",
      "metadata": {
        "id": "4xi9eumX5Cl0"
      },
      "source": [
        "class RBFLayer(Layer):\n",
        "    def __init__(self, units, gamma, **kwargs):\n",
        "        super(RBFLayer, self).__init__(**kwargs)\n",
        "        self.units = units\n",
        "        self.gamma = K.cast_to_floatx(gamma)\n",
        "    #This is where you will define your weights\n",
        "    def build(self, input_shape):\n",
        "\n",
        "        self.mu = self.add_weight(name='mu',\n",
        "                                  shape=(int(input_shape[1]), self.units),\n",
        "                                  initializer='uniform',\n",
        "                                  trainable=True)\n",
        "        super(RBFLayer, self).build(input_shape)\n",
        "    #Katmanı yürütme mantığı \n",
        "    #exp(−γ∑(x−μ)2)\n",
        "    \n",
        "    def call(self, inputs):\n",
        "        diff = K.expand_dims(inputs) - self.mu\n",
        "        l2 = K.sum(K.pow(diff, 2), axis=1)\n",
        "        res = K.exp(-1 * self.gamma * l2)\n",
        "        return res\n",
        "#Bu yöntem, belirli bir girdi şekli için çıktı şeklini belirtmelidir. \n",
        "#Derleme sırasında katmanlar arasında geçen tensörlerin şekillerinin doğru olduğunu doğrulamak için kullanılır.\n",
        "    def compute_output_shape(self, input_shape):\n",
        "        return (input_shape[0], self.units)"
      ],
      "execution_count": null,
      "outputs": []
    },
    {
      "cell_type": "code",
      "metadata": {
        "id": "Ev6kYucS5Pdn"
      },
      "source": [
        "from keras.layers import Dense, Flatten\n",
        "from keras.models import Sequential\n",
        "from keras.losses import binary_crossentropy"
      ],
      "execution_count": null,
      "outputs": []
    },
    {
      "cell_type": "code",
      "metadata": {
        "colab": {
          "base_uri": "https://localhost:8080/"
        },
        "id": "qJ0Ao8Vh5WEu",
        "outputId": "9b5b27d3-9373-4be2-a914-7c507506b405"
      },
      "source": [
        "from sklearn.datasets import  load_wine, load_iris, load_breast_cancer\n",
        "from sklearn.model_selection import train_test_split\n",
        "\n",
        "cancer =load_breast_cancer()\n",
        "df = pd.DataFrame(cancer.data)\n",
        "print(df.head())\n",
        "print(df.shape)\n",
        "X = pd.DataFrame(cancer.data, columns =cancer.feature_names)\n",
        "y = cancer.target\n",
        "\n",
        "X_train, X_test, y_train, y_test = train_test_split(X.values, y, test_size = 0.2, random_state = 0)\n",
        "\n",
        "model = Sequential()\n",
        "#Matris formundaki veriyi düzleştirmek için kullanılır.\n",
        "model.add(Flatten(input_shape=(30, )))\n",
        "model.add(RBFLayer(10, 0.5))\n",
        "#Aşağıda eklediğimiz katman çıktı katmanı. Bir sınıflandırma problemi üzerine çalıştığımız için\n",
        "# sigmoid aktivasyon fonksiyonunu kullanıyoruz.\n",
        "model.add(Dense(1, activation='sigmoid', name='foo'))\n",
        "#root mean square error propability\n",
        "\n",
        "# optimizer: ağırlık katsayılarının güncellenmesi için kullanılacak optimizasyon yöntemi\n",
        "# loss function: gerçek değer ile tahmin edilen değer arasındaki hatayı ifade eden metrik.\n",
        "# metrics: eğitim ve test sırasındaki değerlendirme parametreleri\n",
        "model.compile(optimizer='rmsprop', loss=binary_crossentropy,metrics=[\"accuracy\"])"
      ],
      "execution_count": null,
      "outputs": [
        {
          "output_type": "stream",
          "text": [
            "      0      1       2       3   ...      26      27      28       29\n",
            "0  17.99  10.38  122.80  1001.0  ...  0.7119  0.2654  0.4601  0.11890\n",
            "1  20.57  17.77  132.90  1326.0  ...  0.2416  0.1860  0.2750  0.08902\n",
            "2  19.69  21.25  130.00  1203.0  ...  0.4504  0.2430  0.3613  0.08758\n",
            "3  11.42  20.38   77.58   386.1  ...  0.6869  0.2575  0.6638  0.17300\n",
            "4  20.29  14.34  135.10  1297.0  ...  0.4000  0.1625  0.2364  0.07678\n",
            "\n",
            "[5 rows x 30 columns]\n",
            "(569, 30)\n"
          ],
          "name": "stdout"
        }
      ]
    },
    {
      "cell_type": "code",
      "metadata": {
        "colab": {
          "base_uri": "https://localhost:8080/"
        },
        "id": "1wiRaQvh7QJa",
        "outputId": "90ae61c4-0576-4681-e6e3-2356e7e600d5"
      },
      "source": [
        "model.fit(X, y, batch_size=10, epochs=20)\n",
        "result = model.evaluate(X_test, y_test, batch_size=10)\n",
        "result"
      ],
      "execution_count": null,
      "outputs": [
        {
          "output_type": "stream",
          "text": [
            "Epoch 1/20\n",
            "57/57 [==============================] - 1s 1ms/step - loss: 0.6914 - accuracy: 0.5983\n",
            "Epoch 2/20\n",
            "57/57 [==============================] - 0s 1ms/step - loss: 0.6865 - accuracy: 0.6409\n",
            "Epoch 3/20\n",
            "57/57 [==============================] - 0s 2ms/step - loss: 0.6836 - accuracy: 0.6286\n",
            "Epoch 4/20\n",
            "57/57 [==============================] - 0s 1ms/step - loss: 0.6782 - accuracy: 0.6461\n",
            "Epoch 5/20\n",
            "57/57 [==============================] - 0s 1ms/step - loss: 0.6808 - accuracy: 0.6053\n",
            "Epoch 6/20\n",
            "57/57 [==============================] - 0s 2ms/step - loss: 0.6709 - accuracy: 0.6508\n",
            "Epoch 7/20\n",
            "57/57 [==============================] - 0s 1ms/step - loss: 0.6777 - accuracy: 0.6022\n",
            "Epoch 8/20\n",
            "57/57 [==============================] - 0s 1ms/step - loss: 0.6733 - accuracy: 0.6178\n",
            "Epoch 9/20\n",
            "57/57 [==============================] - 0s 1ms/step - loss: 0.6698 - accuracy: 0.6265\n",
            "Epoch 10/20\n",
            "57/57 [==============================] - 0s 2ms/step - loss: 0.6750 - accuracy: 0.6018\n",
            "Epoch 11/20\n",
            "57/57 [==============================] - 0s 1ms/step - loss: 0.6810 - accuracy: 0.5778\n",
            "Epoch 12/20\n",
            "57/57 [==============================] - 0s 1ms/step - loss: 0.6647 - accuracy: 0.6318\n",
            "Epoch 13/20\n",
            "57/57 [==============================] - 0s 1ms/step - loss: 0.6633 - accuracy: 0.6337\n",
            "Epoch 14/20\n",
            "57/57 [==============================] - 0s 2ms/step - loss: 0.6669 - accuracy: 0.6200\n",
            "Epoch 15/20\n",
            "57/57 [==============================] - 0s 2ms/step - loss: 0.6851 - accuracy: 0.5660\n",
            "Epoch 16/20\n",
            "57/57 [==============================] - 0s 1ms/step - loss: 0.6674 - accuracy: 0.6161\n",
            "Epoch 17/20\n",
            "57/57 [==============================] - 0s 2ms/step - loss: 0.6574 - accuracy: 0.6419\n",
            "Epoch 18/20\n",
            "57/57 [==============================] - 0s 1ms/step - loss: 0.6587 - accuracy: 0.6370\n",
            "Epoch 19/20\n",
            "57/57 [==============================] - 0s 1ms/step - loss: 0.6579 - accuracy: 0.6380\n",
            "Epoch 20/20\n",
            "57/57 [==============================] - 0s 1ms/step - loss: 0.6485 - accuracy: 0.6597\n",
            "12/12 [==============================] - 0s 2ms/step - loss: 0.6782 - accuracy: 0.5877\n"
          ],
          "name": "stdout"
        },
        {
          "output_type": "execute_result",
          "data": {
            "text/plain": [
              "[0.6781610250473022, 0.5877193212509155]"
            ]
          },
          "metadata": {
            "tags": []
          },
          "execution_count": 75
        }
      ]
    },
    {
      "cell_type": "code",
      "metadata": {
        "colab": {
          "base_uri": "https://localhost:8080/"
        },
        "id": "ZWqHbtat7Q30",
        "outputId": "0cd56147-f18c-41fb-b74a-cfb044882c56"
      },
      "source": [
        "wine = load_wine()\n",
        "df = pd.DataFrame(wine.data)\n",
        "print(df.head())\n",
        "X = pd.DataFrame(wine.data, columns =wine.feature_names)\n",
        "y = wine.target\n",
        "\n",
        "X_train, X_test, y_train, y_test = train_test_split(X_wine.values, y_wine, test_size = 0.2, random_state = 0)\n",
        "\n",
        "model = Sequential()\n",
        "model.add(Flatten(input_shape=(13, )))\n",
        "model.add(RBFLayer(10, 0.5))\n",
        "model.add(Dense(1, activation='sigmoid', name='foo'))\n",
        "\n",
        "model.compile(optimizer='rmsprop', loss=binary_crossentropy,metrics=[\"accuracy\"])"
      ],
      "execution_count": null,
      "outputs": [
        {
          "output_type": "stream",
          "text": [
            "      0     1     2     3      4     5   ...    7     8     9     10    11      12\n",
            "0  14.23  1.71  2.43  15.6  127.0  2.80  ...  0.28  2.29  5.64  1.04  3.92  1065.0\n",
            "1  13.20  1.78  2.14  11.2  100.0  2.65  ...  0.26  1.28  4.38  1.05  3.40  1050.0\n",
            "2  13.16  2.36  2.67  18.6  101.0  2.80  ...  0.30  2.81  5.68  1.03  3.17  1185.0\n",
            "3  14.37  1.95  2.50  16.8  113.0  3.85  ...  0.24  2.18  7.80  0.86  3.45  1480.0\n",
            "4  13.24  2.59  2.87  21.0  118.0  2.80  ...  0.39  1.82  4.32  1.04  2.93   735.0\n",
            "\n",
            "[5 rows x 13 columns]\n"
          ],
          "name": "stdout"
        }
      ]
    },
    {
      "cell_type": "code",
      "metadata": {
        "colab": {
          "base_uri": "https://localhost:8080/"
        },
        "id": "EdoBjBt58fC8",
        "outputId": "08186a79-0f28-4a9d-f6dc-1ce541293cbb"
      },
      "source": [
        "model.fit(X, y, batch_size=10, epochs=20)\n",
        "result = model.evaluate(X_test, y_test, batch_size=10)\n",
        "result"
      ],
      "execution_count": null,
      "outputs": [
        {
          "output_type": "stream",
          "text": [
            "Epoch 1/20\n",
            "18/18 [==============================] - 1s 2ms/step - loss: 0.6891 - accuracy: 0.4165\n",
            "Epoch 2/20\n",
            "18/18 [==============================] - 0s 1ms/step - loss: 0.6799 - accuracy: 0.4017\n",
            "Epoch 3/20\n",
            "18/18 [==============================] - 0s 1ms/step - loss: 0.6710 - accuracy: 0.4011\n",
            "Epoch 4/20\n",
            "18/18 [==============================] - 0s 2ms/step - loss: 0.6666 - accuracy: 0.4453\n",
            "Epoch 5/20\n",
            "18/18 [==============================] - 0s 1ms/step - loss: 0.6591 - accuracy: 0.4392\n",
            "Epoch 6/20\n",
            "18/18 [==============================] - 0s 1ms/step - loss: 0.6521 - accuracy: 0.3660\n",
            "Epoch 7/20\n",
            "18/18 [==============================] - 0s 2ms/step - loss: 0.6437 - accuracy: 0.4047\n",
            "Epoch 8/20\n",
            "18/18 [==============================] - 0s 1ms/step - loss: 0.6484 - accuracy: 0.4354\n",
            "Epoch 9/20\n",
            "18/18 [==============================] - 0s 2ms/step - loss: 0.6264 - accuracy: 0.3940\n",
            "Epoch 10/20\n",
            "18/18 [==============================] - 0s 2ms/step - loss: 0.6264 - accuracy: 0.4509\n",
            "Epoch 11/20\n",
            "18/18 [==============================] - 0s 2ms/step - loss: 0.6265 - accuracy: 0.3614\n",
            "Epoch 12/20\n",
            "18/18 [==============================] - 0s 2ms/step - loss: 0.6143 - accuracy: 0.3974\n",
            "Epoch 13/20\n",
            "18/18 [==============================] - 0s 2ms/step - loss: 0.6088 - accuracy: 0.3547\n",
            "Epoch 14/20\n",
            "18/18 [==============================] - 0s 2ms/step - loss: 0.6203 - accuracy: 0.3935\n",
            "Epoch 15/20\n",
            "18/18 [==============================] - 0s 2ms/step - loss: 0.5997 - accuracy: 0.4640\n",
            "Epoch 16/20\n",
            "18/18 [==============================] - 0s 2ms/step - loss: 0.6030 - accuracy: 0.4517\n",
            "Epoch 17/20\n",
            "18/18 [==============================] - 0s 1ms/step - loss: 0.5853 - accuracy: 0.4280\n",
            "Epoch 18/20\n",
            "18/18 [==============================] - 0s 2ms/step - loss: 0.6058 - accuracy: 0.3708\n",
            "Epoch 19/20\n",
            "18/18 [==============================] - 0s 2ms/step - loss: 0.5917 - accuracy: 0.3057\n",
            "Epoch 20/20\n",
            "18/18 [==============================] - 0s 1ms/step - loss: 0.5645 - accuracy: 0.4447\n",
            "4/4 [==============================] - 0s 3ms/step - loss: 0.6181 - accuracy: 0.4444\n"
          ],
          "name": "stdout"
        },
        {
          "output_type": "execute_result",
          "data": {
            "text/plain": [
              "[0.6180707216262817, 0.4444444477558136]"
            ]
          },
          "metadata": {
            "tags": []
          },
          "execution_count": 79
        }
      ]
    },
    {
      "cell_type": "code",
      "metadata": {
        "colab": {
          "base_uri": "https://localhost:8080/"
        },
        "id": "5-0U_L6H9s9s",
        "outputId": "69efbd17-52aa-49ac-8fc2-779198998c7c"
      },
      "source": [
        "iris = load_iris()\n",
        "df = pd.DataFrame(iris.data)\n",
        "print(df.head())\n",
        "X = pd.DataFrame(iris.data, columns =iris.feature_names)\n",
        "y = iris.target\n",
        "\n",
        "X_train, X_test, y_train, y_test = train_test_split(X.values, y, test_size = 0.2, random_state = 0)\n",
        "\n",
        "model = Sequential()\n",
        "model.add(Flatten(input_shape=(4, )))\n",
        "model.add(RBFLayer(10, 0.5))\n",
        "model.add(Dense(1, activation='sigmoid', name='foo'))\n",
        "\n",
        "model.compile(optimizer='rmsprop', loss=binary_crossentropy,metrics=[\"accuracy\"])"
      ],
      "execution_count": null,
      "outputs": [
        {
          "output_type": "stream",
          "text": [
            "     0    1    2    3\n",
            "0  5.1  3.5  1.4  0.2\n",
            "1  4.9  3.0  1.4  0.2\n",
            "2  4.7  3.2  1.3  0.2\n",
            "3  4.6  3.1  1.5  0.2\n",
            "4  5.0  3.6  1.4  0.2\n"
          ],
          "name": "stdout"
        }
      ]
    },
    {
      "cell_type": "code",
      "metadata": {
        "colab": {
          "base_uri": "https://localhost:8080/"
        },
        "id": "pw-9Voc7-HUJ",
        "outputId": "c6e3c912-31c6-4e38-f063-1787ec6365d7"
      },
      "source": [
        "model.fit(X, y, batch_size=10, epochs=20)\n",
        "result = model.evaluate(X_test, y_test, batch_size=10)\n",
        "result"
      ],
      "execution_count": null,
      "outputs": [
        {
          "output_type": "stream",
          "text": [
            "Epoch 1/20\n",
            "15/15 [==============================] - 0s 2ms/step - loss: 0.6891 - accuracy: 0.3486\n",
            "Epoch 2/20\n",
            "15/15 [==============================] - 0s 2ms/step - loss: 0.6809 - accuracy: 0.3541\n",
            "Epoch 3/20\n",
            "15/15 [==============================] - 0s 2ms/step - loss: 0.6743 - accuracy: 0.3279\n",
            "Epoch 4/20\n",
            "15/15 [==============================] - 0s 1ms/step - loss: 0.6710 - accuracy: 0.2789\n",
            "Epoch 5/20\n",
            "15/15 [==============================] - 0s 1ms/step - loss: 0.6639 - accuracy: 0.3207\n",
            "Epoch 6/20\n",
            "15/15 [==============================] - 0s 1ms/step - loss: 0.6489 - accuracy: 0.3165\n",
            "Epoch 7/20\n",
            "15/15 [==============================] - 0s 2ms/step - loss: 0.6468 - accuracy: 0.3360\n",
            "Epoch 8/20\n",
            "15/15 [==============================] - 0s 1ms/step - loss: 0.6312 - accuracy: 0.3338\n",
            "Epoch 9/20\n",
            "15/15 [==============================] - 0s 2ms/step - loss: 0.6365 - accuracy: 0.3502\n",
            "Epoch 10/20\n",
            "15/15 [==============================] - 0s 1ms/step - loss: 0.6244 - accuracy: 0.3390\n",
            "Epoch 11/20\n",
            "15/15 [==============================] - 0s 2ms/step - loss: 0.6213 - accuracy: 0.2827\n",
            "Epoch 12/20\n",
            "15/15 [==============================] - 0s 2ms/step - loss: 0.6117 - accuracy: 0.3237\n",
            "Epoch 13/20\n",
            "15/15 [==============================] - 0s 1ms/step - loss: 0.6161 - accuracy: 0.3382\n",
            "Epoch 14/20\n",
            "15/15 [==============================] - 0s 2ms/step - loss: 0.6135 - accuracy: 0.3713\n",
            "Epoch 15/20\n",
            "15/15 [==============================] - 0s 2ms/step - loss: 0.5909 - accuracy: 0.2966\n",
            "Epoch 16/20\n",
            "15/15 [==============================] - 0s 1ms/step - loss: 0.6225 - accuracy: 0.3480\n",
            "Epoch 17/20\n",
            "15/15 [==============================] - 0s 2ms/step - loss: 0.5754 - accuracy: 0.3242\n",
            "Epoch 18/20\n",
            "15/15 [==============================] - 0s 2ms/step - loss: 0.5700 - accuracy: 0.3269\n",
            "Epoch 19/20\n",
            "15/15 [==============================] - 0s 1ms/step - loss: 0.5916 - accuracy: 0.3910\n",
            "Epoch 20/20\n",
            "15/15 [==============================] - 0s 2ms/step - loss: 0.5831 - accuracy: 0.2456\n",
            "3/3 [==============================] - 0s 5ms/step - loss: 0.6116 - accuracy: 0.4333\n"
          ],
          "name": "stdout"
        },
        {
          "output_type": "execute_result",
          "data": {
            "text/plain": [
              "[0.6116268038749695, 0.4333333373069763]"
            ]
          },
          "metadata": {
            "tags": []
          },
          "execution_count": 83
        }
      ]
    }
  ]
}