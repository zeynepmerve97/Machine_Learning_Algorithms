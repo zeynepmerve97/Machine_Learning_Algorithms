{
  "nbformat": 4,
  "nbformat_minor": 0,
  "metadata": {
    "colab": {
      "name": "SVM.ipynb",
      "provenance": [],
      "authorship_tag": "ABX9TyNZQCJxnwlix5SBoUoDxzA7",
      "include_colab_link": true
    },
    "kernelspec": {
      "name": "python3",
      "display_name": "Python 3"
    },
    "language_info": {
      "name": "python"
    }
  },
  "cells": [
    {
      "cell_type": "markdown",
      "metadata": {
        "id": "view-in-github",
        "colab_type": "text"
      },
      "source": [
        "<a href=\"https://colab.research.google.com/github/zeynepmerve97/Machine_Learning_Algorithms/blob/main/SVM.ipynb\" target=\"_parent\"><img src=\"https://colab.research.google.com/assets/colab-badge.svg\" alt=\"Open In Colab\"/></a>"
      ]
    },
    {
      "cell_type": "code",
      "metadata": {
        "id": "-mHKMnuPydYM"
      },
      "source": [
        "import pandas as pd\n",
        "import numpy as np\n",
        "import matplotlib.pyplot as plt\n",
        "%matplotlib inline\n",
        "from sklearn.model_selection import train_test_split\n",
        "from sklearn.svm import SVC\n",
        "from sklearn.metrics import classification_report, confusion_matrix\n",
        "from sklearn.datasets import load_iris, load_boston,load_diabetes"
      ],
      "execution_count": null,
      "outputs": []
    },
    {
      "cell_type": "code",
      "metadata": {
        "colab": {
          "base_uri": "https://localhost:8080/"
        },
        "id": "0wMx8ECizQ1d",
        "outputId": "bb010b99-ead1-4d98-864d-4e5f44b0c4d8"
      },
      "source": [
        "iris_data = load_iris()\n",
        "df = pd.DataFrame(iris_data.data)\n",
        "print(df.head())\n",
        "print(df.shape)\n",
        "X = pd.DataFrame(iris_data.data, columns =iris_data.feature_names)\n",
        "y = iris_data.target\n",
        "\n",
        "\n",
        "X_train, X_test, y_train, y_test = train_test_split(X, y, test_size = 0.20)"
      ],
      "execution_count": null,
      "outputs": [
        {
          "output_type": "stream",
          "text": [
            "     0    1    2    3\n",
            "0  5.1  3.5  1.4  0.2\n",
            "1  4.9  3.0  1.4  0.2\n",
            "2  4.7  3.2  1.3  0.2\n",
            "3  4.6  3.1  1.5  0.2\n",
            "4  5.0  3.6  1.4  0.2\n",
            "(150, 4)\n"
          ],
          "name": "stdout"
        }
      ]
    },
    {
      "cell_type": "code",
      "metadata": {
        "colab": {
          "base_uri": "https://localhost:8080/"
        },
        "id": "g2Ambqgq0ghA",
        "outputId": "a1eca1eb-9e17-4e51-8a93-6433b5b16b44"
      },
      "source": [
        "svclassifier = SVC(kernel='poly', degree=8)\n",
        "svclassifier.fit(X_train, y_train)\n",
        "\n",
        "y_pred = svclassifier.predict(X_test)\n",
        "\n",
        "print(confusion_matrix(y_test, y_pred))\n",
        "print(classification_report(y_test, y_pred))"
      ],
      "execution_count": null,
      "outputs": [
        {
          "output_type": "stream",
          "text": [
            "[[ 8  0  0]\n",
            " [ 0  8  0]\n",
            " [ 0  2 12]]\n",
            "              precision    recall  f1-score   support\n",
            "\n",
            "           0       1.00      1.00      1.00         8\n",
            "           1       0.80      1.00      0.89         8\n",
            "           2       1.00      0.86      0.92        14\n",
            "\n",
            "    accuracy                           0.93        30\n",
            "   macro avg       0.93      0.95      0.94        30\n",
            "weighted avg       0.95      0.93      0.93        30\n",
            "\n"
          ],
          "name": "stdout"
        }
      ]
    },
    {
      "cell_type": "code",
      "metadata": {
        "colab": {
          "base_uri": "https://localhost:8080/"
        },
        "id": "E8qntpUd0qjy",
        "outputId": "44107109-33fc-4170-f0c4-311f2e42d1b5"
      },
      "source": [
        "svclassifier = SVC(kernel='rbf')\n",
        "svclassifier.fit(X_train, y_train)\n",
        "\n",
        "y_pred = svclassifier.predict(X_test)\n",
        "\n",
        "print(confusion_matrix(y_test, y_pred))\n",
        "print(classification_report(y_test, y_pred))"
      ],
      "execution_count": null,
      "outputs": [
        {
          "output_type": "stream",
          "text": [
            "[[ 8  0  0]\n",
            " [ 0  8  0]\n",
            " [ 0  3 11]]\n",
            "              precision    recall  f1-score   support\n",
            "\n",
            "           0       1.00      1.00      1.00         8\n",
            "           1       0.73      1.00      0.84         8\n",
            "           2       1.00      0.79      0.88        14\n",
            "\n",
            "    accuracy                           0.90        30\n",
            "   macro avg       0.91      0.93      0.91        30\n",
            "weighted avg       0.93      0.90      0.90        30\n",
            "\n"
          ],
          "name": "stdout"
        }
      ]
    },
    {
      "cell_type": "code",
      "metadata": {
        "colab": {
          "base_uri": "https://localhost:8080/"
        },
        "id": "fE2MNr7-0wtp",
        "outputId": "d382600d-cbb3-48e4-9987-154598cbda7d"
      },
      "source": [
        "svclassifier = SVC(kernel='sigmoid')\n",
        "svclassifier.fit(X_train, y_train)\n",
        "\n",
        "y_pred = svclassifier.predict(X_test)\n",
        "\n",
        "print(confusion_matrix(y_test, y_pred))\n",
        "print(classification_report(y_test, y_pred))"
      ],
      "execution_count": null,
      "outputs": [
        {
          "output_type": "stream",
          "text": [
            "[[ 4  4  0]\n",
            " [ 6  2  0]\n",
            " [13  1  0]]\n",
            "              precision    recall  f1-score   support\n",
            "\n",
            "           0       0.17      0.50      0.26         8\n",
            "           1       0.29      0.25      0.27         8\n",
            "           2       0.00      0.00      0.00        14\n",
            "\n",
            "    accuracy                           0.20        30\n",
            "   macro avg       0.15      0.25      0.17        30\n",
            "weighted avg       0.12      0.20      0.14        30\n",
            "\n"
          ],
          "name": "stdout"
        },
        {
          "output_type": "stream",
          "text": [
            "/usr/local/lib/python3.7/dist-packages/sklearn/metrics/_classification.py:1272: UndefinedMetricWarning: Precision and F-score are ill-defined and being set to 0.0 in labels with no predicted samples. Use `zero_division` parameter to control this behavior.\n",
            "  _warn_prf(average, modifier, msg_start, len(result))\n"
          ],
          "name": "stderr"
        }
      ]
    },
    {
      "cell_type": "code",
      "metadata": {
        "colab": {
          "base_uri": "https://localhost:8080/"
        },
        "id": "swLvJmSk03uS",
        "outputId": "7750dc55-1ced-4749-eaf6-7f6da3712ace"
      },
      "source": [
        "diabetes = load_diabetes()\n",
        "df = pd.DataFrame(diabetes.data)\n",
        "print(df.head())\n",
        "print(df.shape)\n",
        "X_diabetes = pd.DataFrame(diabetes.data, columns =diabetes.feature_names)\n",
        "y_diabetes= diabetes.target\n",
        "\n",
        "\n",
        "X_train_diabetes, X_test_diabetes, y_train_diabetes, y_test_diabetes = train_test_split(X_diabetes, y_diabetes, test_size = 0.20)"
      ],
      "execution_count": null,
      "outputs": [
        {
          "output_type": "stream",
          "text": [
            "          0         1         2  ...         7         8         9\n",
            "0  0.038076  0.050680  0.061696  ... -0.002592  0.019908 -0.017646\n",
            "1 -0.001882 -0.044642 -0.051474  ... -0.039493 -0.068330 -0.092204\n",
            "2  0.085299  0.050680  0.044451  ... -0.002592  0.002864 -0.025930\n",
            "3 -0.089063 -0.044642 -0.011595  ...  0.034309  0.022692 -0.009362\n",
            "4  0.005383 -0.044642 -0.036385  ... -0.002592 -0.031991 -0.046641\n",
            "\n",
            "[5 rows x 10 columns]\n",
            "(442, 10)\n"
          ],
          "name": "stdout"
        }
      ]
    },
    {
      "cell_type": "code",
      "metadata": {
        "colab": {
          "base_uri": "https://localhost:8080/"
        },
        "id": "rHDYt0ya1PDC",
        "outputId": "af3fd8ca-4b1f-46a3-939f-25313f3c99ad"
      },
      "source": [
        "svclassifier = SVC(kernel='poly', degree=8)\n",
        "svclassifier.fit(X_train_diabetes, y_train_diabetes)\n",
        "\n",
        "y_pred_diabetes= svclassifier.predict(X_test_diabetes)\n",
        "\n",
        "print(confusion_matrix(y_test_diabetes, y_pred_diabetes))\n",
        "print(classification_report(y_test_diabetes, y_pred_diabetes))\n",
        "\n",
        "print(confusion_matrix(y_test_diabetes, y_pred_diabetes))\n",
        "print(classification_report(y_test_diabetes,y_pred_diabetes))"
      ],
      "execution_count": null,
      "outputs": [
        {
          "output_type": "stream",
          "text": [
            "[[0 0 0 ... 0 0 0]\n",
            " [0 0 0 ... 0 0 0]\n",
            " [0 0 0 ... 0 0 0]\n",
            " ...\n",
            " [0 0 0 ... 0 0 0]\n",
            " [0 0 0 ... 0 0 0]\n",
            " [0 0 0 ... 0 1 0]]\n",
            "              precision    recall  f1-score   support\n",
            "\n",
            "        37.0       0.00      0.00      0.00       0.0\n",
            "        40.0       0.00      0.00      0.00       0.0\n",
            "        42.0       0.00      0.00      0.00       1.0\n",
            "        52.0       0.00      0.00      0.00       1.0\n",
            "        53.0       0.00      0.00      0.00       0.0\n",
            "        59.0       0.00      0.00      0.00       1.0\n",
            "        60.0       0.00      0.00      0.00       1.0\n",
            "        63.0       0.00      0.00      0.00       1.0\n",
            "        64.0       0.00      0.00      0.00       1.0\n",
            "        67.0       0.00      0.00      0.00       1.0\n",
            "        69.0       0.00      0.00      0.00       1.0\n",
            "        70.0       0.00      0.00      0.00       2.0\n",
            "        71.0       0.00      0.00      0.00       1.0\n",
            "        72.0       0.00      0.00      0.00       1.0\n",
            "        73.0       0.00      0.00      0.00       1.0\n",
            "        74.0       0.00      0.00      0.00       1.0\n",
            "        77.0       0.00      0.00      0.00       1.0\n",
            "        83.0       0.00      0.00      0.00       3.0\n",
            "        85.0       0.00      0.00      0.00       2.0\n",
            "        87.0       0.00      0.00      0.00       1.0\n",
            "        88.0       0.00      0.00      0.00       2.0\n",
            "        89.0       0.00      0.00      0.00       0.0\n",
            "        90.0       0.00      0.00      0.00       2.0\n",
            "        91.0       0.00      0.00      0.00       1.0\n",
            "        93.0       0.00      0.00      0.00       1.0\n",
            "        94.0       0.00      0.00      0.00       2.0\n",
            "        96.0       0.00      0.00      0.00       1.0\n",
            "        98.0       0.00      0.00      0.00       1.0\n",
            "       101.0       0.00      0.00      0.00       1.0\n",
            "       102.0       0.00      0.00      0.00       1.0\n",
            "       103.0       0.00      0.00      0.00       1.0\n",
            "       104.0       0.00      0.00      0.00       1.0\n",
            "       109.0       0.00      0.00      0.00       1.0\n",
            "       113.0       0.00      0.00      0.00       1.0\n",
            "       116.0       0.00      0.00      0.00       1.0\n",
            "       122.0       0.00      0.00      0.00       0.0\n",
            "       128.0       0.00      0.00      0.00       0.0\n",
            "       129.0       0.00      0.00      0.00       1.0\n",
            "       131.0       0.00      0.00      0.00       1.0\n",
            "       135.0       0.00      0.00      0.00       2.0\n",
            "       137.0       0.00      0.00      0.00       1.0\n",
            "       139.0       0.00      0.00      0.00       1.0\n",
            "       141.0       0.00      0.00      0.00       1.0\n",
            "       142.0       0.00      0.00      0.00       1.0\n",
            "       143.0       0.00      0.00      0.00       1.0\n",
            "       144.0       0.00      0.00      0.00       3.0\n",
            "       147.0       0.00      0.00      0.00       1.0\n",
            "       150.0       0.00      0.00      0.00       1.0\n",
            "       152.0       0.00      0.00      0.00       1.0\n",
            "       161.0       0.00      0.00      0.00       1.0\n",
            "       163.0       0.00      0.00      0.00       1.0\n",
            "       170.0       0.00      0.00      0.00       1.0\n",
            "       171.0       0.00      0.00      0.00       1.0\n",
            "       173.0       0.00      0.00      0.00       1.0\n",
            "       177.0       0.00      0.00      0.00       1.0\n",
            "       178.0       0.00      0.00      0.00       2.0\n",
            "       180.0       0.00      0.00      0.00       0.0\n",
            "       181.0       0.00      0.00      0.00       1.0\n",
            "       182.0       0.00      0.00      0.00       1.0\n",
            "       185.0       0.00      0.00      0.00       0.0\n",
            "       189.0       0.00      0.00      0.00       0.0\n",
            "       190.0       0.00      0.00      0.00       1.0\n",
            "       192.0       0.00      0.00      0.00       0.0\n",
            "       197.0       0.00      0.00      0.00       1.0\n",
            "       199.0       0.00      0.00      0.00       1.0\n",
            "       200.0       0.00      0.00      0.00       1.0\n",
            "       202.0       0.00      0.00      0.00       1.0\n",
            "       206.0       0.00      0.00      0.00       1.0\n",
            "       208.0       0.00      0.00      0.00       1.0\n",
            "       217.0       0.00      0.00      0.00       1.0\n",
            "       225.0       0.00      0.00      0.00       1.0\n",
            "       233.0       0.00      0.00      0.00       2.0\n",
            "       237.0       0.00      0.00      0.00       0.0\n",
            "       241.0       0.00      0.00      0.00       1.0\n",
            "       242.0       0.00      0.00      0.00       1.0\n",
            "       246.0       0.00      0.00      0.00       1.0\n",
            "       249.0       0.00      0.00      0.00       1.0\n",
            "       257.0       0.00      0.00      0.00       1.0\n",
            "       259.0       0.00      0.00      0.00       2.0\n",
            "       265.0       0.00      0.00      0.00       1.0\n",
            "       273.0       0.00      0.00      0.00       0.0\n",
            "       275.0       0.00      0.00      0.00       2.0\n",
            "       277.0       0.00      0.00      0.00       1.0\n",
            "       279.0       0.00      0.00      0.00       1.0\n",
            "       281.0       0.00      0.00      0.00       1.0\n",
            "       317.0       0.00      0.00      0.00       1.0\n",
            "       321.0       0.00      0.00      0.00       0.0\n",
            "       336.0       0.00      0.00      0.00       1.0\n",
            "\n",
            "    accuracy                           0.00      89.0\n",
            "   macro avg       0.00      0.00      0.00      89.0\n",
            "weighted avg       0.00      0.00      0.00      89.0\n",
            "\n",
            "[[0 0 0 ... 0 0 0]\n",
            " [0 0 0 ... 0 0 0]\n",
            " [0 0 0 ... 0 0 0]\n",
            " ...\n",
            " [0 0 0 ... 0 0 0]\n",
            " [0 0 0 ... 0 0 0]\n",
            " [0 0 0 ... 0 1 0]]\n",
            "              precision    recall  f1-score   support\n",
            "\n",
            "        37.0       0.00      0.00      0.00       0.0\n",
            "        40.0       0.00      0.00      0.00       0.0\n",
            "        42.0       0.00      0.00      0.00       1.0\n",
            "        52.0       0.00      0.00      0.00       1.0\n",
            "        53.0       0.00      0.00      0.00       0.0\n",
            "        59.0       0.00      0.00      0.00       1.0\n",
            "        60.0       0.00      0.00      0.00       1.0\n",
            "        63.0       0.00      0.00      0.00       1.0\n",
            "        64.0       0.00      0.00      0.00       1.0\n",
            "        67.0       0.00      0.00      0.00       1.0\n",
            "        69.0       0.00      0.00      0.00       1.0\n",
            "        70.0       0.00      0.00      0.00       2.0\n",
            "        71.0       0.00      0.00      0.00       1.0\n",
            "        72.0       0.00      0.00      0.00       1.0\n",
            "        73.0       0.00      0.00      0.00       1.0\n",
            "        74.0       0.00      0.00      0.00       1.0\n",
            "        77.0       0.00      0.00      0.00       1.0\n",
            "        83.0       0.00      0.00      0.00       3.0\n",
            "        85.0       0.00      0.00      0.00       2.0\n",
            "        87.0       0.00      0.00      0.00       1.0\n",
            "        88.0       0.00      0.00      0.00       2.0\n",
            "        89.0       0.00      0.00      0.00       0.0\n",
            "        90.0       0.00      0.00      0.00       2.0\n",
            "        91.0       0.00      0.00      0.00       1.0\n",
            "        93.0       0.00      0.00      0.00       1.0\n",
            "        94.0       0.00      0.00      0.00       2.0\n",
            "        96.0       0.00      0.00      0.00       1.0\n",
            "        98.0       0.00      0.00      0.00       1.0\n",
            "       101.0       0.00      0.00      0.00       1.0\n",
            "       102.0       0.00      0.00      0.00       1.0\n",
            "       103.0       0.00      0.00      0.00       1.0\n",
            "       104.0       0.00      0.00      0.00       1.0\n",
            "       109.0       0.00      0.00      0.00       1.0\n",
            "       113.0       0.00      0.00      0.00       1.0\n",
            "       116.0       0.00      0.00      0.00       1.0\n",
            "       122.0       0.00      0.00      0.00       0.0\n",
            "       128.0       0.00      0.00      0.00       0.0\n",
            "       129.0       0.00      0.00      0.00       1.0\n",
            "       131.0       0.00      0.00      0.00       1.0\n",
            "       135.0       0.00      0.00      0.00       2.0\n",
            "       137.0       0.00      0.00      0.00       1.0\n",
            "       139.0       0.00      0.00      0.00       1.0\n",
            "       141.0       0.00      0.00      0.00       1.0\n",
            "       142.0       0.00      0.00      0.00       1.0\n",
            "       143.0       0.00      0.00      0.00       1.0\n",
            "       144.0       0.00      0.00      0.00       3.0\n",
            "       147.0       0.00      0.00      0.00       1.0\n",
            "       150.0       0.00      0.00      0.00       1.0\n",
            "       152.0       0.00      0.00      0.00       1.0\n",
            "       161.0       0.00      0.00      0.00       1.0\n",
            "       163.0       0.00      0.00      0.00       1.0\n",
            "       170.0       0.00      0.00      0.00       1.0\n",
            "       171.0       0.00      0.00      0.00       1.0\n",
            "       173.0       0.00      0.00      0.00       1.0\n",
            "       177.0       0.00      0.00      0.00       1.0\n",
            "       178.0       0.00      0.00      0.00       2.0\n",
            "       180.0       0.00      0.00      0.00       0.0\n",
            "       181.0       0.00      0.00      0.00       1.0\n",
            "       182.0       0.00      0.00      0.00       1.0\n",
            "       185.0       0.00      0.00      0.00       0.0\n",
            "       189.0       0.00      0.00      0.00       0.0\n",
            "       190.0       0.00      0.00      0.00       1.0\n",
            "       192.0       0.00      0.00      0.00       0.0\n",
            "       197.0       0.00      0.00      0.00       1.0\n",
            "       199.0       0.00      0.00      0.00       1.0\n",
            "       200.0       0.00      0.00      0.00       1.0\n",
            "       202.0       0.00      0.00      0.00       1.0\n",
            "       206.0       0.00      0.00      0.00       1.0\n",
            "       208.0       0.00      0.00      0.00       1.0\n",
            "       217.0       0.00      0.00      0.00       1.0\n",
            "       225.0       0.00      0.00      0.00       1.0\n",
            "       233.0       0.00      0.00      0.00       2.0\n",
            "       237.0       0.00      0.00      0.00       0.0\n",
            "       241.0       0.00      0.00      0.00       1.0\n",
            "       242.0       0.00      0.00      0.00       1.0\n",
            "       246.0       0.00      0.00      0.00       1.0\n",
            "       249.0       0.00      0.00      0.00       1.0\n",
            "       257.0       0.00      0.00      0.00       1.0\n",
            "       259.0       0.00      0.00      0.00       2.0\n",
            "       265.0       0.00      0.00      0.00       1.0\n",
            "       273.0       0.00      0.00      0.00       0.0\n",
            "       275.0       0.00      0.00      0.00       2.0\n",
            "       277.0       0.00      0.00      0.00       1.0\n",
            "       279.0       0.00      0.00      0.00       1.0\n",
            "       281.0       0.00      0.00      0.00       1.0\n",
            "       317.0       0.00      0.00      0.00       1.0\n",
            "       321.0       0.00      0.00      0.00       0.0\n",
            "       336.0       0.00      0.00      0.00       1.0\n",
            "\n",
            "    accuracy                           0.00      89.0\n",
            "   macro avg       0.00      0.00      0.00      89.0\n",
            "weighted avg       0.00      0.00      0.00      89.0\n",
            "\n"
          ],
          "name": "stdout"
        },
        {
          "output_type": "stream",
          "text": [
            "/usr/local/lib/python3.7/dist-packages/sklearn/metrics/_classification.py:1272: UndefinedMetricWarning: Precision and F-score are ill-defined and being set to 0.0 in labels with no predicted samples. Use `zero_division` parameter to control this behavior.\n",
            "  _warn_prf(average, modifier, msg_start, len(result))\n",
            "/usr/local/lib/python3.7/dist-packages/sklearn/metrics/_classification.py:1272: UndefinedMetricWarning: Recall and F-score are ill-defined and being set to 0.0 in labels with no true samples. Use `zero_division` parameter to control this behavior.\n",
            "  _warn_prf(average, modifier, msg_start, len(result))\n"
          ],
          "name": "stderr"
        }
      ]
    },
    {
      "cell_type": "code",
      "metadata": {
        "colab": {
          "base_uri": "https://localhost:8080/",
          "height": 353
        },
        "id": "KH-_D8ze1Rqh",
        "outputId": "dd0725fb-91db-4e73-d687-a05625af09f8"
      },
      "source": [
        "svclassifier = SVC(kernel='rbf')\n",
        "from sklearn import preprocessing\n",
        "lab_enc = preprocessing.LabelEncoder()\n",
        "training_scores_encoded = lab_enc.fit_transform(y_train_boston)\n",
        "svclassifier.fit(X_train_boston, training_scores_encoded )\n",
        "\n",
        "y_pred_boston2 = svclassifier.predict(X_test_boston)\n",
        "\n",
        "print(confusion_matrix(y_test_boston, y_pred_boston2))\n",
        "print(classification_report(y_test_boston, y_pred_boston2))"
      ],
      "execution_count": null,
      "outputs": [
        {
          "output_type": "error",
          "ename": "ValueError",
          "evalue": "ignored",
          "traceback": [
            "\u001b[0;31m---------------------------------------------------------------------------\u001b[0m",
            "\u001b[0;31mValueError\u001b[0m                                Traceback (most recent call last)",
            "\u001b[0;32m<ipython-input-20-a095d0c2d1c0>\u001b[0m in \u001b[0;36m<module>\u001b[0;34m()\u001b[0m\n\u001b[1;32m      7\u001b[0m \u001b[0my_pred_boston2\u001b[0m \u001b[0;34m=\u001b[0m \u001b[0msvclassifier\u001b[0m\u001b[0;34m.\u001b[0m\u001b[0mpredict\u001b[0m\u001b[0;34m(\u001b[0m\u001b[0mX_test_boston\u001b[0m\u001b[0;34m)\u001b[0m\u001b[0;34m\u001b[0m\u001b[0;34m\u001b[0m\u001b[0m\n\u001b[1;32m      8\u001b[0m \u001b[0;34m\u001b[0m\u001b[0m\n\u001b[0;32m----> 9\u001b[0;31m \u001b[0mprint\u001b[0m\u001b[0;34m(\u001b[0m\u001b[0mconfusion_matrix\u001b[0m\u001b[0;34m(\u001b[0m\u001b[0my_test_boston\u001b[0m\u001b[0;34m,\u001b[0m \u001b[0my_pred_boston2\u001b[0m\u001b[0;34m)\u001b[0m\u001b[0;34m)\u001b[0m\u001b[0;34m\u001b[0m\u001b[0;34m\u001b[0m\u001b[0m\n\u001b[0m\u001b[1;32m     10\u001b[0m \u001b[0mprint\u001b[0m\u001b[0;34m(\u001b[0m\u001b[0mclassification_report\u001b[0m\u001b[0;34m(\u001b[0m\u001b[0my_test_boston\u001b[0m\u001b[0;34m,\u001b[0m \u001b[0my_pred_boston2\u001b[0m\u001b[0;34m)\u001b[0m\u001b[0;34m)\u001b[0m\u001b[0;34m\u001b[0m\u001b[0;34m\u001b[0m\u001b[0m\n",
            "\u001b[0;32m/usr/local/lib/python3.7/dist-packages/sklearn/metrics/_classification.py\u001b[0m in \u001b[0;36mconfusion_matrix\u001b[0;34m(y_true, y_pred, labels, sample_weight, normalize)\u001b[0m\n\u001b[1;32m    266\u001b[0m \u001b[0;34m\u001b[0m\u001b[0m\n\u001b[1;32m    267\u001b[0m     \"\"\"\n\u001b[0;32m--> 268\u001b[0;31m     \u001b[0my_type\u001b[0m\u001b[0;34m,\u001b[0m \u001b[0my_true\u001b[0m\u001b[0;34m,\u001b[0m \u001b[0my_pred\u001b[0m \u001b[0;34m=\u001b[0m \u001b[0m_check_targets\u001b[0m\u001b[0;34m(\u001b[0m\u001b[0my_true\u001b[0m\u001b[0;34m,\u001b[0m \u001b[0my_pred\u001b[0m\u001b[0;34m)\u001b[0m\u001b[0;34m\u001b[0m\u001b[0;34m\u001b[0m\u001b[0m\n\u001b[0m\u001b[1;32m    269\u001b[0m     \u001b[0;32mif\u001b[0m \u001b[0my_type\u001b[0m \u001b[0;32mnot\u001b[0m \u001b[0;32min\u001b[0m \u001b[0;34m(\u001b[0m\u001b[0;34m\"binary\"\u001b[0m\u001b[0;34m,\u001b[0m \u001b[0;34m\"multiclass\"\u001b[0m\u001b[0;34m)\u001b[0m\u001b[0;34m:\u001b[0m\u001b[0;34m\u001b[0m\u001b[0;34m\u001b[0m\u001b[0m\n\u001b[1;32m    270\u001b[0m         \u001b[0;32mraise\u001b[0m \u001b[0mValueError\u001b[0m\u001b[0;34m(\u001b[0m\u001b[0;34m\"%s is not supported\"\u001b[0m \u001b[0;34m%\u001b[0m \u001b[0my_type\u001b[0m\u001b[0;34m)\u001b[0m\u001b[0;34m\u001b[0m\u001b[0;34m\u001b[0m\u001b[0m\n",
            "\u001b[0;32m/usr/local/lib/python3.7/dist-packages/sklearn/metrics/_classification.py\u001b[0m in \u001b[0;36m_check_targets\u001b[0;34m(y_true, y_pred)\u001b[0m\n\u001b[1;32m     88\u001b[0m     \u001b[0;32mif\u001b[0m \u001b[0mlen\u001b[0m\u001b[0;34m(\u001b[0m\u001b[0my_type\u001b[0m\u001b[0;34m)\u001b[0m \u001b[0;34m>\u001b[0m \u001b[0;36m1\u001b[0m\u001b[0;34m:\u001b[0m\u001b[0;34m\u001b[0m\u001b[0;34m\u001b[0m\u001b[0m\n\u001b[1;32m     89\u001b[0m         raise ValueError(\"Classification metrics can't handle a mix of {0} \"\n\u001b[0;32m---> 90\u001b[0;31m                          \"and {1} targets\".format(type_true, type_pred))\n\u001b[0m\u001b[1;32m     91\u001b[0m \u001b[0;34m\u001b[0m\u001b[0m\n\u001b[1;32m     92\u001b[0m     \u001b[0;31m# We can't have more than one value on y_type => The set is no more needed\u001b[0m\u001b[0;34m\u001b[0m\u001b[0;34m\u001b[0m\u001b[0;34m\u001b[0m\u001b[0m\n",
            "\u001b[0;31mValueError\u001b[0m: Classification metrics can't handle a mix of continuous and binary targets"
          ]
        }
      ]
    },
    {
      "cell_type": "code",
      "metadata": {
        "id": "pHlaqH5i1W5g"
      },
      "source": [
        "svclassifier = SVC(kernel='sigmoid')\n",
        "svclassifier.fit(X_train, y_train)\n",
        "\n",
        "y_pred = svclassifier.predict(X_test)\n",
        "\n",
        "print(confusion_matrix(y_test, y_pred))\n",
        "print(classification_report(y_test, y_pred))"
      ],
      "execution_count": null,
      "outputs": []
    }
  ]
}