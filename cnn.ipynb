{
  "nbformat": 4,
  "nbformat_minor": 0,
  "metadata": {
    "colab": {
      "name": "cnn",
      "provenance": [],
      "collapsed_sections": [],
      "authorship_tag": "ABX9TyN3BVbIyfhQy+jwZ0nAtCOL",
      "include_colab_link": true
    },
    "kernelspec": {
      "name": "python3",
      "display_name": "Python 3"
    },
    "language_info": {
      "name": "python"
    }
  },
  "cells": [
    {
      "cell_type": "markdown",
      "metadata": {
        "id": "view-in-github",
        "colab_type": "text"
      },
      "source": [
        "<a href=\"https://colab.research.google.com/github/zeynepmerve97/Machine_Learning_Algorithms/blob/main/cnn.ipynb\" target=\"_parent\"><img src=\"https://colab.research.google.com/assets/colab-badge.svg\" alt=\"Open In Colab\"/></a>"
      ]
    },
    {
      "cell_type": "code",
      "metadata": {
        "id": "i8PUqnO_IvLI"
      },
      "source": [
        "from sklearn.model_selection import train_test_split\n",
        "import numpy as np\n",
        "import keras\n",
        "\n",
        "from keras.models import Sequential\n",
        "from keras.layers import Dense, Dropout, Flatten\n",
        "from keras.layers import Conv2D, MaxPooling2D, ZeroPadding2D,BatchNormalization\n",
        "from keras import backend as K\n",
        "import os\n",
        "import pandas as pd\n",
        "import cv2"
      ],
      "execution_count": null,
      "outputs": []
    },
    {
      "cell_type": "code",
      "metadata": {
        "id": "0Zd8YlGDYlKO"
      },
      "source": [
        "from sklearn.datasets import load_breast_cancer,load_sample_images"
      ],
      "execution_count": null,
      "outputs": []
    },
    {
      "cell_type": "code",
      "metadata": {
        "colab": {
          "base_uri": "https://localhost:8080/"
        },
        "id": "0KXvrpTdYyVm",
        "outputId": "98445430-42f1-4bfd-8440-53d9965dea2d"
      },
      "source": [
        "from keras.datasets import fashion_mnist\n",
        "(train_X,train_Y), (test_X,test_Y) = fashion_mnist.load_data()"
      ],
      "execution_count": null,
      "outputs": [
        {
          "output_type": "stream",
          "text": [
            "Downloading data from https://storage.googleapis.com/tensorflow/tf-keras-datasets/train-labels-idx1-ubyte.gz\n",
            "32768/29515 [=================================] - 0s 0us/step\n",
            "40960/29515 [=========================================] - 0s 0us/step\n",
            "Downloading data from https://storage.googleapis.com/tensorflow/tf-keras-datasets/train-images-idx3-ubyte.gz\n",
            "26427392/26421880 [==============================] - 1s 0us/step\n",
            "26435584/26421880 [==============================] - 1s 0us/step\n",
            "Downloading data from https://storage.googleapis.com/tensorflow/tf-keras-datasets/t10k-labels-idx1-ubyte.gz\n",
            "16384/5148 [===============================================================================================] - 0s 0us/step\n",
            "Downloading data from https://storage.googleapis.com/tensorflow/tf-keras-datasets/t10k-images-idx3-ubyte.gz\n",
            "4423680/4422102 [==============================] - 0s 0us/step\n",
            "4431872/4422102 [==============================] - 0s 0us/step\n"
          ],
          "name": "stdout"
        }
      ]
    },
    {
      "cell_type": "code",
      "metadata": {
        "colab": {
          "base_uri": "https://localhost:8080/"
        },
        "id": "B5reVTejcR8D",
        "outputId": "3aa53190-a082-49f0-f596-eec23e627eda"
      },
      "source": [
        "import tensorflow as tf\n",
        "#y_train= tf.keras.utils.to_categorical(y_train, num_classes= 10)\n",
        "#y_test = tf.keras.utils.to_categorical(y_test,num_classes= 10)\n",
        "\n",
        "\n",
        "import numpy as np\n",
        "import tensorflow as tf\n",
        "\n",
        "import matplotlib.pyplot as plt\n",
        "%matplotlib inline\n",
        "\n",
        "print('Training data shape : ', train_X.shape, train_Y.shape)\n",
        "\n",
        "print('Testing data shape : ', test_X.shape, test_Y.shape)"
      ],
      "execution_count": null,
      "outputs": [
        {
          "output_type": "stream",
          "text": [
            "Training data shape :  (60000, 28, 28) (60000,)\n",
            "Testing data shape :  (10000, 28, 28) (10000,)\n"
          ],
          "name": "stdout"
        }
      ]
    },
    {
      "cell_type": "code",
      "metadata": {
        "colab": {
          "base_uri": "https://localhost:8080/"
        },
        "id": "vcsTfbwjcoYu",
        "outputId": "86b2638c-a20e-4f42-d48b-c94231a6dd08"
      },
      "source": [
        "classes = np.unique(train_Y)\n",
        "nClasses = len(classes)\n",
        "print('Total number of outputs : ', nClasses)\n",
        "print('Output classes : ', classes)"
      ],
      "execution_count": null,
      "outputs": [
        {
          "output_type": "stream",
          "text": [
            "Total number of outputs :  10\n",
            "Output classes :  [0 1 2 3 4 5 6 7 8 9]\n"
          ],
          "name": "stdout"
        }
      ]
    },
    {
      "cell_type": "code",
      "metadata": {
        "colab": {
          "base_uri": "https://localhost:8080/",
          "height": 208
        },
        "id": "1jxoxoOXcqeP",
        "outputId": "db645c9b-2cb3-4df6-cb5e-2f1ce7987ae7"
      },
      "source": [
        "plt.figure(figsize=[5,5])\n",
        "\n",
        "# Display the first image in training data\n",
        "plt.subplot(121)\n",
        "plt.imshow(train_X[0,:,:], cmap='gray')\n",
        "plt.title(\"Ground Truth : {}\".format(train_Y[0]))\n",
        "\n",
        "# Display the first image in testing data\n",
        "plt.subplot(122)\n",
        "plt.imshow(test_X[0,:,:], cmap='gray')\n",
        "plt.title(\"Ground Truth : {}\".format(test_Y[0]))"
      ],
      "execution_count": null,
      "outputs": [
        {
          "output_type": "execute_result",
          "data": {
            "text/plain": [
              "Text(0.5, 1.0, 'Ground Truth : 9')"
            ]
          },
          "metadata": {
            "tags": []
          },
          "execution_count": 28
        },
        {
          "output_type": "display_data",
          "data": {
            "image/png": "[encoded data removed]",
            "text/plain": [
              "<Figure size 360x360 with 2 Axes>"
            ]
          },
          "metadata": {
            "tags": [],
            "needs_background": "light"
          }
        }
      ]
    },
    {
      "cell_type": "code",
      "metadata": {
        "colab": {
          "base_uri": "https://localhost:8080/"
        },
        "id": "a3BibCp0cq66",
        "outputId": "f11361c9-9758-450b-f398-1a2592725583"
      },
      "source": [
        "train_X = train_X.reshape(-1, 28,28, 1)\n",
        "test_X = test_X.reshape(-1, 28,28, 1)\n",
        "train_X.shape, test_X.shape"
      ],
      "execution_count": null,
      "outputs": [
        {
          "output_type": "execute_result",
          "data": {
            "text/plain": [
              "((60000, 28, 28, 1), (10000, 28, 28, 1))"
            ]
          },
          "metadata": {
            "tags": []
          },
          "execution_count": 29
        }
      ]
    },
    {
      "cell_type": "code",
      "metadata": {
        "id": "Whp_mRfBc571"
      },
      "source": [
        "train_X = train_X.astype('float32')\n",
        "test_X = test_X.astype('float32')\n",
        "train_X = train_X / 255.\n",
        "test_X = test_X / 255."
      ],
      "execution_count": null,
      "outputs": []
    },
    {
      "cell_type": "code",
      "metadata": {
        "colab": {
          "base_uri": "https://localhost:8080/"
        },
        "id": "iMJqaW26c8MP",
        "outputId": "96f94080-69b2-4ef4-aa3c-a31982f22481"
      },
      "source": [
        "train_Y_one_hot = tf.keras.utils.to_categorical(train_Y)\n",
        "test_Y_one_hot = tf.keras.utils.to_categorical(test_Y)\n",
        "\n",
        "# Display the change for category label using one-hot encoding\n",
        "print('Original label:', train_Y[0])\n",
        "print('After conversion to one-hot:', train_Y_one_hot[0])"
      ],
      "execution_count": null,
      "outputs": [
        {
          "output_type": "stream",
          "text": [
            "Original label: 9\n",
            "After conversion to one-hot: [0. 0. 0. 0. 0. 0. 0. 0. 0. 1.]\n"
          ],
          "name": "stdout"
        }
      ]
    },
    {
      "cell_type": "code",
      "metadata": {
        "id": "L4ULyOFOdC6U"
      },
      "source": [
        "train_X,valid_X,train_label,valid_label = train_test_split(train_X, train_Y_one_hot, test_size=0.2, random_state=13)"
      ],
      "execution_count": null,
      "outputs": []
    },
    {
      "cell_type": "code",
      "metadata": {
        "colab": {
          "base_uri": "https://localhost:8080/"
        },
        "id": "Uf75rgjfdg-U",
        "outputId": "69b3e662-af8b-47e2-b6ca-25cf14b93248"
      },
      "source": [
        "train_X.shape,valid_X.shape,train_label.shape,valid_label.shape"
      ],
      "execution_count": null,
      "outputs": [
        {
          "output_type": "execute_result",
          "data": {
            "text/plain": [
              "((48000, 28, 28, 1), (12000, 28, 28, 1), (48000, 10), (12000, 10))"
            ]
          },
          "metadata": {
            "tags": []
          },
          "execution_count": 36
        }
      ]
    },
    {
      "cell_type": "code",
      "metadata": {
        "id": "d6CQ-viXY68Z"
      },
      "source": [
        "model4 = Sequential()\n",
        "model4.add(Conv2D(32, kernel_size = (5,5),padding = 'Same',strides=(2, 2),\n",
        "                 activation ='relu', input_shape = (28,28,1)))\n",
        "\n",
        "model4.add(Conv2D(64, kernel_size = (5,5),padding = 'Same', \n",
        "                 activation ='relu'))\n",
        "model4.add(MaxPooling2D(5,5,padding='same'))\n",
        "model4.add(Dropout(0.25))\n",
        "\n",
        "model4.add(Conv2D(128, kernel_size = (5,5),padding = 'Same', \n",
        "                 activation ='relu'))\n",
        "model4.add(Conv2D(256, kernel_size = (5,5),padding = 'Same', \n",
        "                 activation ='relu'))\n",
        "\n",
        "model4.add(Dropout(0.50))\n",
        "\n",
        "model4.add(Flatten())\n",
        "model4.add(Dense(128, activation = \"relu\"))\n",
        "model4.add(Dropout(0.50))\n",
        "\n",
        "model4.add(Dense(10, activation = \"softmax\"))"
      ],
      "execution_count": null,
      "outputs": []
    },
    {
      "cell_type": "code",
      "metadata": {
        "id": "mumRjyxgZU1T"
      },
      "source": [
        "model4.compile(loss=keras.losses.categorical_crossentropy, optimizer=keras.optimizers.Adam(),metrics=['accuracy'])"
      ],
      "execution_count": null,
      "outputs": []
    },
    {
      "cell_type": "code",
      "metadata": {
        "colab": {
          "base_uri": "https://localhost:8080/"
        },
        "id": "yYX172NZZbVR",
        "outputId": "03e5bfd8-1ea8-4bf1-b9d9-3d25395586c3"
      },
      "source": [
        "epochs = 10\n",
        "batch_size = 20\n",
        "model4.fit(train_X, train_label, batch_size=batch_size,epochs=epochs,verbose=1,validation_data=(valid_X, valid_label))\n"
      ],
      "execution_count": null,
      "outputs": [
        {
          "output_type": "stream",
          "text": [
            "Epoch 1/10\n",
            "2400/2400 [==============================] - 240s 100ms/step - loss: 0.4260 - accuracy: 0.8469 - val_loss: 0.3275 - val_accuracy: 0.8767\n",
            "Epoch 2/10\n",
            "2400/2400 [==============================] - 239s 99ms/step - loss: 0.3662 - accuracy: 0.8660 - val_loss: 0.3225 - val_accuracy: 0.8836\n",
            "Epoch 3/10\n",
            "2400/2400 [==============================] - 240s 100ms/step - loss: 0.3368 - accuracy: 0.8767 - val_loss: 0.2903 - val_accuracy: 0.8909\n",
            "Epoch 4/10\n",
            "2400/2400 [==============================] - 242s 101ms/step - loss: 0.3159 - accuracy: 0.8847 - val_loss: 0.2913 - val_accuracy: 0.8948\n",
            "Epoch 5/10\n",
            "2400/2400 [==============================] - 241s 101ms/step - loss: 0.3027 - accuracy: 0.8904 - val_loss: 0.2918 - val_accuracy: 0.8967\n",
            "Epoch 6/10\n",
            "2400/2400 [==============================] - 240s 100ms/step - loss: 0.2926 - accuracy: 0.8934 - val_loss: 0.2826 - val_accuracy: 0.9003\n",
            "Epoch 7/10\n",
            "2400/2400 [==============================] - 240s 100ms/step - loss: 0.2874 - accuracy: 0.8956 - val_loss: 0.2922 - val_accuracy: 0.8977\n",
            "Epoch 8/10\n",
            "2400/2400 [==============================] - 240s 100ms/step - loss: 0.2772 - accuracy: 0.9003 - val_loss: 0.2900 - val_accuracy: 0.8951\n",
            "Epoch 9/10\n",
            "2400/2400 [==============================] - 238s 99ms/step - loss: 0.2745 - accuracy: 0.9014 - val_loss: 0.3083 - val_accuracy: 0.9007\n",
            "Epoch 10/10\n",
            "2400/2400 [==============================] - 238s 99ms/step - loss: 0.2659 - accuracy: 0.9039 - val_loss: 0.2805 - val_accuracy: 0.8999\n"
          ],
          "name": "stdout"
        },
        {
          "output_type": "execute_result",
          "data": {
            "text/plain": [
              "<keras.callbacks.History at 0x7f7fe42cf0d0>"
            ]
          },
          "metadata": {
            "tags": []
          },
          "execution_count": 40
        }
      ]
    },
    {
      "cell_type": "code",
      "metadata": {
        "colab": {
          "base_uri": "https://localhost:8080/"
        },
        "id": "2ck2R5KMa4xR",
        "outputId": "46668fad-28ad-4a58-ecff-8021d8d5f731"
      },
      "source": [
        "test_eval = model4.evaluate(test_X, test_Y_one_hot, verbose=0)\n",
        "\n",
        "print('Test accuracy:', test_eval[1])"
      ],
      "execution_count": null,
      "outputs": [
        {
          "output_type": "stream",
          "text": [
            "Test accuracy: 0.8935999870300293\n"
          ],
          "name": "stdout"
        }
      ]
    },
    {
      "cell_type": "code",
      "metadata": {
        "id": "abFZH_zCpOvk"
      },
      "source": [
        ""
      ],
      "execution_count": null,
      "outputs": []
    }
  ]
}